{
 "cells": [
  {
   "cell_type": "code",
   "execution_count": null,
   "id": "ce2a5b3a",
   "metadata": {},
   "outputs": [
    {
     "name": "stdout",
     "output_type": "stream",
     "text": [
      "WARNING:tensorflow:From C:\\Users\\Youssef Amr\\AppData\\Roaming\\Python\\Python310\\site-packages\\keras\\src\\losses.py:2976: The name tf.losses.sparse_softmax_cross_entropy is deprecated. Please use tf.compat.v1.losses.sparse_softmax_cross_entropy instead.\n",
      "\n"
     ]
    }
   ],
   "source": [
    "import tensorflow as tf\n",
    "from tensorflow.keras.models import Sequential\n",
    "from tensorflow.keras.layers import Dense, Flatten\n",
    "from tensorflow.keras.datasets import mnist\n",
    "from tensorflow.keras.utils import to_categorical\n",
    "import numpy as np\n",
    "#testing"
   ]
  },
  {
   "cell_type": "code",
   "execution_count": 2,
   "id": "d2a3ea26",
   "metadata": {},
   "outputs": [
    {
     "name": "stdout",
     "output_type": "stream",
     "text": [
      "(1994, 4) (1994, 16)\n"
     ]
    }
   ],
   "source": [
    "shuffledresult = np.load('shuffledresult.npy')\n",
    "shuffledsweep = np.load('shuffledsweep.npy')\n",
    "shuffledsweep = shuffledsweep.T\n",
    "print(shuffledresult.shape, shuffledsweep.shape)\n"
   ]
  },
  {
   "cell_type": "code",
   "execution_count": 7,
   "id": "408cecd0",
   "metadata": {},
   "outputs": [
    {
     "name": "stdout",
     "output_type": "stream",
     "text": [
      "(1196, 16) (1196, 4) (400, 16) (400, 4)\n"
     ]
    }
   ],
   "source": [
    "x_train = shuffledsweep[:1196, :16]  # First 1000 samples, 16 sweeps, 1 channel\n",
    "x_validation = shuffledsweep[1196:1594, :16]  # Next 200 samples, 16 sweeps, 1 channel\n",
    "x_test = shuffledsweep[1594:1994, :16]  # Next 200 samples, 16 sweeps, 1 channel\n",
    "y_train = shuffledresult[:1196]  # First 1000 labels, one-hot encoded\n",
    "y_validation = shuffledresult[1196:1594]  # Next 200 labels, one-hot encoded\n",
    "y_test = shuffledresult[1594:1994]  # Next 200 labels, one-hot encoded\n",
    "print(x_train.shape, y_train.shape, x_test.shape, y_test.shape)\n"
   ]
  },
  {
   "cell_type": "code",
   "execution_count": 9,
   "id": "1320e752",
   "metadata": {},
   "outputs": [
    {
     "name": "stdout",
     "output_type": "stream",
     "text": [
      "Epoch 1/40\n",
      "38/38 [==============================] - 2s 12ms/step - loss: 1.1626 - accuracy: 0.5661 - val_loss: 0.9546 - val_accuracy: 0.6106\n",
      "Epoch 2/40\n",
      "38/38 [==============================] - 0s 5ms/step - loss: 0.8537 - accuracy: 0.6789 - val_loss: 0.7562 - val_accuracy: 0.7437\n",
      "Epoch 3/40\n",
      "38/38 [==============================] - 0s 5ms/step - loss: 0.6992 - accuracy: 0.7500 - val_loss: 0.6244 - val_accuracy: 0.8065\n",
      "Epoch 4/40\n",
      "38/38 [==============================] - 0s 5ms/step - loss: 0.6012 - accuracy: 0.7826 - val_loss: 0.5388 - val_accuracy: 0.8317\n",
      "Epoch 5/40\n",
      "38/38 [==============================] - 0s 5ms/step - loss: 0.5371 - accuracy: 0.8102 - val_loss: 0.4832 - val_accuracy: 0.8392\n",
      "Epoch 6/40\n",
      "38/38 [==============================] - 0s 5ms/step - loss: 0.4904 - accuracy: 0.8336 - val_loss: 0.4469 - val_accuracy: 0.8492\n",
      "Epoch 7/40\n",
      "38/38 [==============================] - 0s 7ms/step - loss: 0.4607 - accuracy: 0.8378 - val_loss: 0.4332 - val_accuracy: 0.8392\n",
      "Epoch 8/40\n",
      "38/38 [==============================] - 0s 6ms/step - loss: 0.4286 - accuracy: 0.8453 - val_loss: 0.3865 - val_accuracy: 0.8668\n",
      "Epoch 9/40\n",
      "38/38 [==============================] - 0s 8ms/step - loss: 0.4049 - accuracy: 0.8520 - val_loss: 0.3775 - val_accuracy: 0.8568\n",
      "Epoch 10/40\n",
      "38/38 [==============================] - 0s 8ms/step - loss: 0.3756 - accuracy: 0.8545 - val_loss: 0.3472 - val_accuracy: 0.8744\n",
      "Epoch 11/40\n",
      "38/38 [==============================] - 0s 7ms/step - loss: 0.3523 - accuracy: 0.8645 - val_loss: 0.3345 - val_accuracy: 0.8719\n",
      "Epoch 12/40\n",
      "38/38 [==============================] - 0s 7ms/step - loss: 0.3395 - accuracy: 0.8737 - val_loss: 0.3154 - val_accuracy: 0.8668\n",
      "Epoch 13/40\n",
      "38/38 [==============================] - 0s 6ms/step - loss: 0.3135 - accuracy: 0.8763 - val_loss: 0.3093 - val_accuracy: 0.8719\n",
      "Epoch 14/40\n",
      "38/38 [==============================] - 0s 6ms/step - loss: 0.3045 - accuracy: 0.8821 - val_loss: 0.2881 - val_accuracy: 0.8995\n",
      "Epoch 15/40\n",
      "38/38 [==============================] - 0s 6ms/step - loss: 0.2866 - accuracy: 0.8946 - val_loss: 0.2967 - val_accuracy: 0.8794\n",
      "Epoch 16/40\n",
      "38/38 [==============================] - 0s 7ms/step - loss: 0.2696 - accuracy: 0.9005 - val_loss: 0.2567 - val_accuracy: 0.9271\n",
      "Epoch 17/40\n",
      "38/38 [==============================] - 0s 6ms/step - loss: 0.2565 - accuracy: 0.9013 - val_loss: 0.2809 - val_accuracy: 0.9146\n",
      "Epoch 18/40\n",
      "38/38 [==============================] - 0s 7ms/step - loss: 0.2452 - accuracy: 0.9306 - val_loss: 0.2585 - val_accuracy: 0.8945\n",
      "Epoch 19/40\n",
      "38/38 [==============================] - 0s 6ms/step - loss: 0.2354 - accuracy: 0.9197 - val_loss: 0.2306 - val_accuracy: 0.9422\n",
      "Epoch 20/40\n",
      "38/38 [==============================] - 0s 6ms/step - loss: 0.2209 - accuracy: 0.9314 - val_loss: 0.2184 - val_accuracy: 0.9271\n",
      "Epoch 21/40\n",
      "38/38 [==============================] - 0s 5ms/step - loss: 0.2148 - accuracy: 0.9231 - val_loss: 0.2257 - val_accuracy: 0.9121\n",
      "Epoch 22/40\n",
      "38/38 [==============================] - 0s 7ms/step - loss: 0.2050 - accuracy: 0.9273 - val_loss: 0.2011 - val_accuracy: 0.9397\n",
      "Epoch 23/40\n",
      "38/38 [==============================] - 0s 10ms/step - loss: 0.2004 - accuracy: 0.9314 - val_loss: 0.1925 - val_accuracy: 0.9347\n",
      "Epoch 24/40\n",
      "38/38 [==============================] - 0s 6ms/step - loss: 0.1855 - accuracy: 0.9398 - val_loss: 0.1870 - val_accuracy: 0.9447\n",
      "Epoch 25/40\n",
      "38/38 [==============================] - 0s 6ms/step - loss: 0.1816 - accuracy: 0.9373 - val_loss: 0.1904 - val_accuracy: 0.9372\n",
      "Epoch 26/40\n",
      "38/38 [==============================] - 0s 7ms/step - loss: 0.1767 - accuracy: 0.9356 - val_loss: 0.1823 - val_accuracy: 0.9397\n",
      "Epoch 27/40\n",
      "38/38 [==============================] - 0s 8ms/step - loss: 0.1702 - accuracy: 0.9398 - val_loss: 0.1662 - val_accuracy: 0.9397\n",
      "Epoch 28/40\n",
      "38/38 [==============================] - 0s 8ms/step - loss: 0.1691 - accuracy: 0.9448 - val_loss: 0.1655 - val_accuracy: 0.9347\n",
      "Epoch 29/40\n",
      "38/38 [==============================] - 0s 8ms/step - loss: 0.1683 - accuracy: 0.9381 - val_loss: 0.1651 - val_accuracy: 0.9347\n",
      "Epoch 30/40\n",
      "38/38 [==============================] - 0s 6ms/step - loss: 0.1676 - accuracy: 0.9390 - val_loss: 0.1599 - val_accuracy: 0.9422\n",
      "Epoch 31/40\n",
      "38/38 [==============================] - 0s 7ms/step - loss: 0.1491 - accuracy: 0.9440 - val_loss: 0.1596 - val_accuracy: 0.9422\n",
      "Epoch 32/40\n",
      "38/38 [==============================] - 0s 7ms/step - loss: 0.1475 - accuracy: 0.9490 - val_loss: 0.1539 - val_accuracy: 0.9347\n",
      "Epoch 33/40\n",
      "38/38 [==============================] - 0s 6ms/step - loss: 0.1420 - accuracy: 0.9532 - val_loss: 0.1491 - val_accuracy: 0.9422\n",
      "Epoch 34/40\n",
      "38/38 [==============================] - 0s 6ms/step - loss: 0.1439 - accuracy: 0.9498 - val_loss: 0.1400 - val_accuracy: 0.9497\n",
      "Epoch 35/40\n",
      "38/38 [==============================] - 0s 5ms/step - loss: 0.1367 - accuracy: 0.9523 - val_loss: 0.1420 - val_accuracy: 0.9422\n",
      "Epoch 36/40\n",
      "38/38 [==============================] - 0s 6ms/step - loss: 0.1361 - accuracy: 0.9498 - val_loss: 0.1475 - val_accuracy: 0.9397\n",
      "Epoch 37/40\n",
      "38/38 [==============================] - 0s 6ms/step - loss: 0.1337 - accuracy: 0.9532 - val_loss: 0.1302 - val_accuracy: 0.9497\n",
      "Epoch 38/40\n",
      "38/38 [==============================] - 0s 6ms/step - loss: 0.1267 - accuracy: 0.9557 - val_loss: 0.1268 - val_accuracy: 0.9623\n",
      "Epoch 39/40\n",
      "38/38 [==============================] - 0s 6ms/step - loss: 0.1242 - accuracy: 0.9498 - val_loss: 0.1289 - val_accuracy: 0.9472\n",
      "Epoch 40/40\n",
      "38/38 [==============================] - 0s 6ms/step - loss: 0.1227 - accuracy: 0.9632 - val_loss: 0.1351 - val_accuracy: 0.9397\n",
      "Test accuracy: 0.9500\n",
      "13/13 [==============================] - 0s 2ms/step\n",
      "[ 1  0  0  0  0  0  0  0  0  0  0  0  0  0  0  0  0  0  0  0  0  0  0  0\n",
      "  0  0  0  0  0  0  0  0  0  0  1  0  0  0  0  0  0  0  0  0  0  0  0  0\n",
      "  0  0  0  0  0  0  0  0  0  0  0  0  0  0  0  0  0  0  0  0  0  0 -1  0\n",
      "  0  0  0  0  0  0  0  0  0  0  0  0  0  0  0  0  0  0  0  0  0  0  0  0\n",
      "  0  0  0  0  0  0  0  0  0  0  0  0  0  0  0  0  0  0  0  0  0  0  0  0\n",
      "  0  0  0  0  0  0  0  0  0  0  0  0  0 -1  0  0  0  0  0  0  0  0  0  0\n",
      "  0  0  0  0  0  0  0  0  0  0  0  0  0  0  0  0  0  0  0  0  0  0  0  0\n",
      "  0  0  0 -3  0  0  0  0  0  0  0  1  0  0  0  0  0  0  0  0  0  0  0  0\n",
      "  0  0  0  0  0  0  0  0  0  0  0  0 -1  0  0  0  0  1  0  0  0  0  0  0\n",
      "  0  0  0  0  0  0  0  0  0  0  0  0  0  0  0  0  0  0  0  0  0  0  0  0\n",
      "  0  0  0  0  0  0  0  0  1  0  0  0  0  0  0  0  0  0  0  0  0  0 -3  0\n",
      "  1  0  0  0 -3  0  0  0  0  0  0  0  0  0  0  0  0  0  0  0  0  0  0  0\n",
      "  0  0  0  0  0  0  0  0  0  0  0  0  0  0  0  0  1  0  0  0  0  0  0  0\n",
      "  0  0  0  0 -1  0  0  0  0  0  0  0  0  0  0  0  0  0  0  0  0  0  1  0\n",
      "  0  0  0  0  0  0  0  0  0  0  0  0  0  0  0  0  0  0  0  0  0  0  0  0\n",
      "  0  0  0  0  1  0  0  0  0 -1  0  0  1  0  0  0  0  0  0  0  1  0  0  0\n",
      "  0  0  1  0  0  0  0  0  0  0  0  0  0  0  0  0]\n"
     ]
    }
   ],
   "source": [
    "\n",
    "\n",
    "\n",
    "# 2. Build the FNN model\n",
    "model = Sequential([    \n",
    "    Flatten(input_shape=(16,)),      # Flatten 2D images to 1D vector\n",
    "    Dense(64, activation='relu'),      # Hidden layer with 64 neurons\n",
    "    Dense(64, activation='relu'),       # Hidden layer with 64 neurons\n",
    "    Dense(4, activation='softmax')     # Output layer for 3 classes\n",
    "])\n",
    "\n",
    "# 3. Compile the model\n",
    "model.compile(\n",
    "    optimizer='adam',\n",
    "    loss='categorical_crossentropy',\n",
    "    metrics=['accuracy']\n",
    ")\n",
    "\n",
    "# 4. Train the model\n",
    "model.fit(\n",
    "    x_train, y_train,\n",
    "    validation_data=(x_validation, y_validation),\n",
    "    epochs=40,\n",
    "    batch_size=32,\n",
    "    validation_split=0.1,\n",
    "    verbose=1,\n",
    "    \n",
    ")\n",
    "\n",
    "# 5. Evaluate the model on test data\n",
    "test_loss, test_acc = model.evaluate(x_test, y_test, verbose=0)\n",
    "print(f\"Test accuracy: {test_acc:.4f}\")\n",
    "\n",
    "# 6. Make predictions on first 5 test images\n",
    "predictions = model.predict(x_test)\n",
    "# print(\"Predicted labels:\", predictions.argmax(axis=1))\n",
    "# print(\"True labels:     \", y_test.argmax(axis=1))\n",
    "print(predictions.argmax(axis=1) - y_test.argmax(axis=1))"
   ]
  },
  {
   "cell_type": "code",
   "execution_count": null,
   "id": "ce858abc",
   "metadata": {},
   "outputs": [],
   "source": []
  }
 ],
 "metadata": {
  "kernelspec": {
   "display_name": "Python 3",
   "language": "python",
   "name": "python3"
  },
  "language_info": {
   "codemirror_mode": {
    "name": "ipython",
    "version": 3
   },
   "file_extension": ".py",
   "mimetype": "text/x-python",
   "name": "python",
   "nbconvert_exporter": "python",
   "pygments_lexer": "ipython3",
   "version": "3.10.0"
  }
 },
 "nbformat": 4,
 "nbformat_minor": 5
}
