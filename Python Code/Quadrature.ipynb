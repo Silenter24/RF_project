{
 "cells": [
  {
   "cell_type": "code",
   "execution_count": null,
   "id": "ce2a5b3a",
   "metadata": {},
   "outputs": [
    {
     "name": "stdout",
     "output_type": "stream",
     "text": [
      "WARNING:tensorflow:From C:\\Users\\Youssef Amr\\AppData\\Roaming\\Python\\Python310\\site-packages\\keras\\src\\losses.py:2976: The name tf.losses.sparse_softmax_cross_entropy is deprecated. Please use tf.compat.v1.losses.sparse_softmax_cross_entropy instead.\n",
      "\n"
     ]
    }
   ],
   "source": [
    "import tensorflow as tf\n",
    "from tensorflow.keras.models import Sequential\n",
    "from tensorflow.keras.layers import Dense, Flatten\n",
    "from tensorflow.keras.datasets import mnist\n",
    "from tensorflow.keras.utils import to_categorical\n",
    "import numpy as np\n",
    "#testing"
   ]
  },
  {
   "cell_type": "code",
   "execution_count": 2,
   "id": "d2a3ea26",
   "metadata": {},
   "outputs": [
    {
     "name": "stdout",
     "output_type": "stream",
     "text": [
      "(1994, 4) (1994, 16)\n"
     ]
    }
   ],
   "source": [
    "shuffledresult = np.load('shuffledresult.npy')\n",
    "shuffledsweep = np.load('shuffledsweep.npy')\n",
    "shuffledsweep = shuffledsweep.T\n",
    "print(shuffledresult.shape, shuffledsweep.shape)\n"
   ]
  },
  {
   "cell_type": "code",
   "execution_count": 27,
   "id": "408cecd0",
   "metadata": {},
   "outputs": [
    {
     "name": "stdout",
     "output_type": "stream",
     "text": [
      "(1196, 16, 1) (1196, 4) (400, 16, 1) (400, 4)\n"
     ]
    }
   ],
   "source": [
    "x_train = shuffledsweep[:1196, :16, np.newaxis]  # First 1000 samples, 16 sweeps, 1 channel\n",
    "x_validation = shuffledsweep[1196:1594, :16, np.newaxis]  # Next 200 samples, 16 sweeps, 1 channel\n",
    "x_test = shuffledsweep[1594:1994, :16, np.newaxis]  # Next 200 samples, 16 sweeps, 1 channel\n",
    "y_train = shuffledresult[:1196]  # First 1000 labels, one-hot encoded\n",
    "y_validation = shuffledresult[1196:1594]  # Next 200 labels, one-hot encoded\n",
    "y_test = shuffledresult[1594:1994]  # Next 200 labels, one-hot encoded\n",
    "print(x_train.shape, y_train.shape, x_test.shape, y_test.shape)\n"
   ]
  },
  {
   "cell_type": "code",
   "execution_count": 32,
   "id": "1320e752",
   "metadata": {},
   "outputs": [
    {
     "name": "stdout",
     "output_type": "stream",
     "text": [
      "Epoch 1/40\n",
      "38/38 [==============================] - 2s 14ms/step - loss: 1.1364 - accuracy: 0.4607 - val_loss: 0.9579 - val_accuracy: 0.5854\n",
      "Epoch 2/40\n",
      "38/38 [==============================] - 0s 6ms/step - loss: 0.8509 - accuracy: 0.6881 - val_loss: 0.7167 - val_accuracy: 0.8166\n",
      "Epoch 3/40\n",
      "38/38 [==============================] - 0s 6ms/step - loss: 0.6665 - accuracy: 0.7943 - val_loss: 0.5878 - val_accuracy: 0.8317\n",
      "Epoch 4/40\n",
      "38/38 [==============================] - 0s 5ms/step - loss: 0.5727 - accuracy: 0.8169 - val_loss: 0.5125 - val_accuracy: 0.8442\n",
      "Epoch 5/40\n",
      "38/38 [==============================] - 0s 7ms/step - loss: 0.5128 - accuracy: 0.8311 - val_loss: 0.4717 - val_accuracy: 0.8317\n",
      "Epoch 6/40\n",
      "38/38 [==============================] - 0s 5ms/step - loss: 0.4627 - accuracy: 0.8353 - val_loss: 0.4239 - val_accuracy: 0.8618\n",
      "Epoch 7/40\n",
      "38/38 [==============================] - 0s 6ms/step - loss: 0.4258 - accuracy: 0.8503 - val_loss: 0.3915 - val_accuracy: 0.8693\n",
      "Epoch 8/40\n",
      "38/38 [==============================] - 0s 5ms/step - loss: 0.3855 - accuracy: 0.8570 - val_loss: 0.3534 - val_accuracy: 0.8643\n",
      "Epoch 9/40\n",
      "38/38 [==============================] - 0s 5ms/step - loss: 0.3572 - accuracy: 0.8687 - val_loss: 0.3280 - val_accuracy: 0.8794\n",
      "Epoch 10/40\n",
      "38/38 [==============================] - 0s 5ms/step - loss: 0.3241 - accuracy: 0.8763 - val_loss: 0.3084 - val_accuracy: 0.8844\n",
      "Epoch 11/40\n",
      "38/38 [==============================] - 0s 5ms/step - loss: 0.3071 - accuracy: 0.8804 - val_loss: 0.2859 - val_accuracy: 0.8945\n",
      "Epoch 12/40\n",
      "38/38 [==============================] - 0s 5ms/step - loss: 0.2823 - accuracy: 0.8871 - val_loss: 0.2733 - val_accuracy: 0.8970\n",
      "Epoch 13/40\n",
      "38/38 [==============================] - 0s 6ms/step - loss: 0.2616 - accuracy: 0.9038 - val_loss: 0.2500 - val_accuracy: 0.8995\n",
      "Epoch 14/40\n",
      "38/38 [==============================] - 0s 5ms/step - loss: 0.2460 - accuracy: 0.9047 - val_loss: 0.2278 - val_accuracy: 0.9271\n",
      "Epoch 15/40\n",
      "38/38 [==============================] - 0s 6ms/step - loss: 0.2348 - accuracy: 0.9181 - val_loss: 0.2182 - val_accuracy: 0.9347\n",
      "Epoch 16/40\n",
      "38/38 [==============================] - 0s 6ms/step - loss: 0.2175 - accuracy: 0.9273 - val_loss: 0.2114 - val_accuracy: 0.9322\n",
      "Epoch 17/40\n",
      "38/38 [==============================] - 0s 6ms/step - loss: 0.2111 - accuracy: 0.9256 - val_loss: 0.1994 - val_accuracy: 0.9271\n",
      "Epoch 18/40\n",
      "38/38 [==============================] - 0s 5ms/step - loss: 0.1977 - accuracy: 0.9356 - val_loss: 0.1990 - val_accuracy: 0.9221\n",
      "Epoch 19/40\n",
      "38/38 [==============================] - 0s 6ms/step - loss: 0.1841 - accuracy: 0.9365 - val_loss: 0.1790 - val_accuracy: 0.9372\n",
      "Epoch 20/40\n",
      "38/38 [==============================] - 0s 5ms/step - loss: 0.1811 - accuracy: 0.9423 - val_loss: 0.1735 - val_accuracy: 0.9347\n",
      "Epoch 21/40\n",
      "38/38 [==============================] - 0s 6ms/step - loss: 0.1721 - accuracy: 0.9448 - val_loss: 0.1715 - val_accuracy: 0.9372\n",
      "Epoch 22/40\n",
      "38/38 [==============================] - 0s 6ms/step - loss: 0.1617 - accuracy: 0.9482 - val_loss: 0.1660 - val_accuracy: 0.9347\n",
      "Epoch 23/40\n",
      "38/38 [==============================] - 0s 5ms/step - loss: 0.1614 - accuracy: 0.9457 - val_loss: 0.1529 - val_accuracy: 0.9372\n",
      "Epoch 24/40\n",
      "38/38 [==============================] - 0s 6ms/step - loss: 0.1543 - accuracy: 0.9498 - val_loss: 0.1877 - val_accuracy: 0.9422\n",
      "Epoch 25/40\n",
      "38/38 [==============================] - 0s 5ms/step - loss: 0.1639 - accuracy: 0.9457 - val_loss: 0.1560 - val_accuracy: 0.9422\n",
      "Epoch 26/40\n",
      "38/38 [==============================] - 0s 7ms/step - loss: 0.1465 - accuracy: 0.9498 - val_loss: 0.1443 - val_accuracy: 0.9523\n",
      "Epoch 27/40\n",
      "38/38 [==============================] - 0s 5ms/step - loss: 0.1442 - accuracy: 0.9473 - val_loss: 0.1416 - val_accuracy: 0.9497\n",
      "Epoch 28/40\n",
      "38/38 [==============================] - 0s 5ms/step - loss: 0.1392 - accuracy: 0.9523 - val_loss: 0.1447 - val_accuracy: 0.9497\n",
      "Epoch 29/40\n",
      "38/38 [==============================] - 0s 5ms/step - loss: 0.1304 - accuracy: 0.9615 - val_loss: 0.1428 - val_accuracy: 0.9322\n",
      "Epoch 30/40\n",
      "38/38 [==============================] - 0s 5ms/step - loss: 0.1294 - accuracy: 0.9615 - val_loss: 0.1415 - val_accuracy: 0.9372\n",
      "Epoch 31/40\n",
      "38/38 [==============================] - 0s 4ms/step - loss: 0.1256 - accuracy: 0.9624 - val_loss: 0.1356 - val_accuracy: 0.9698\n",
      "Epoch 32/40\n",
      "38/38 [==============================] - 0s 5ms/step - loss: 0.1240 - accuracy: 0.9666 - val_loss: 0.1241 - val_accuracy: 0.9623\n",
      "Epoch 33/40\n",
      "38/38 [==============================] - 0s 5ms/step - loss: 0.1254 - accuracy: 0.9565 - val_loss: 0.1338 - val_accuracy: 0.9422\n",
      "Epoch 34/40\n",
      "38/38 [==============================] - 0s 5ms/step - loss: 0.1296 - accuracy: 0.9515 - val_loss: 0.1231 - val_accuracy: 0.9548\n",
      "Epoch 35/40\n",
      "38/38 [==============================] - 0s 5ms/step - loss: 0.1143 - accuracy: 0.9691 - val_loss: 0.1200 - val_accuracy: 0.9548\n",
      "Epoch 36/40\n",
      "38/38 [==============================] - 0s 5ms/step - loss: 0.1112 - accuracy: 0.9758 - val_loss: 0.1312 - val_accuracy: 0.9372\n",
      "Epoch 37/40\n",
      "38/38 [==============================] - 0s 5ms/step - loss: 0.1104 - accuracy: 0.9624 - val_loss: 0.1140 - val_accuracy: 0.9673\n",
      "Epoch 38/40\n",
      "38/38 [==============================] - 0s 5ms/step - loss: 0.1063 - accuracy: 0.9699 - val_loss: 0.1187 - val_accuracy: 0.9523\n",
      "Epoch 39/40\n",
      "38/38 [==============================] - 0s 6ms/step - loss: 0.1116 - accuracy: 0.9640 - val_loss: 0.1201 - val_accuracy: 0.9472\n",
      "Epoch 40/40\n",
      "38/38 [==============================] - 0s 5ms/step - loss: 0.1107 - accuracy: 0.9640 - val_loss: 0.1083 - val_accuracy: 0.9673\n",
      "Test accuracy: 0.9675\n",
      "13/13 [==============================] - 0s 1ms/step\n",
      "[ 0  0  0  0  0  0  0  0  0  0  0  0  0  0  0  0  0  0  0  0  0  0  0  0\n",
      "  0  0  0  0  0  0  0  0  0  0  1  0  0  0  0  0  0  0  0  0  0  0  0  0\n",
      "  0  0  0  0  0  0  0  0  0  0  0  0  0  0  0  0  0  0  0  0  0  0  0  0\n",
      "  0  0  0  0  0  0  0  0  0  0  0  0  0  0  0  0  0  0  0  0  0  0  0  0\n",
      "  0  0  0  0  0  0  0  0  0  0  0  0  0  0  0  0  0  0  0  0  0  0  0  0\n",
      "  0  0  0  0  0  0  0  0  0  0  0  0  0  0  0  0  0  0  0  0  0  0  0  0\n",
      "  0  0  0  0  0  0  1  0  0  0  0  0  0  0  0  0  0  0  0  0  0  0  0  0\n",
      "  0  0  0 -3  0  0  0  0  0  0  3  1  0  0  0  0  0  0  0  0  0  0  0  0\n",
      "  0  0  0  0  0  0  0  0  0  0  0  0 -1  0  0  0  0  0  0  0  0  0  0  0\n",
      "  0  0  0  0  0  0  0  0  0  0  0  0  0  0  0  0  0  0  0  0  0  1  0  0\n",
      "  0  0  0  0  0  0  0  0  0  0  0  0  0  0  0  0  0  0  0  0  0  0 -3  0\n",
      "  1  0  1  0  0  0  0  0  0  0  0  0  0  0  0  0  0  0  0  0  0  0  0  0\n",
      "  0  0  0  0  0  0  0  0  0  0  0  0  0  0  0  0  0  0  0  0  0  0  0  0\n",
      "  0  0  0  0  0  0  0  0  0  0  0  0  0  0  0  0  0  0  0  0  0  0  1  0\n",
      "  0  0  0  0  0  0  0  0  0  0  0  0  0  0  0  0  0  0  0  0  0  0  0  0\n",
      "  0  0  0  0  0  0  0  0  0  0  0  0  1  0  0  0  0  0  0  0  0  0  0  0\n",
      "  0  0  1  0  0  0  0  0  0  0  0  0  0  0  0  0]\n"
     ]
    }
   ],
   "source": [
    "\n",
    "\n",
    "\n",
    "# 2. Build the FNN model\n",
    "model = Sequential([    \n",
    "    Flatten(input_shape=(16, 1)),      # Flatten 2D images to 1D vector\n",
    "    Dense(64, activation='relu'),      # Hidden layer with 64 neurons\n",
    "    Dense(64, activation='relu'),       # Hidden layer with 64 neurons\n",
    "    Dense(4, activation='softmax')     # Output layer for 3 classes\n",
    "])\n",
    "\n",
    "# 3. Compile the model\n",
    "model.compile(\n",
    "    optimizer='adam',\n",
    "    loss='categorical_crossentropy',\n",
    "    metrics=['accuracy']\n",
    ")\n",
    "\n",
    "# 4. Train the model\n",
    "model.fit(\n",
    "    x_train, y_train,\n",
    "    validation_data=(x_validation, y_validation),\n",
    "    epochs=40,\n",
    "    batch_size=32,\n",
    "    validation_split=0.1,\n",
    "    verbose=1,\n",
    "    \n",
    ")\n",
    "\n",
    "# 5. Evaluate the model on test data\n",
    "test_loss, test_acc = model.evaluate(x_test, y_test, verbose=0)\n",
    "print(f\"Test accuracy: {test_acc:.4f}\")\n",
    "\n",
    "# 6. Make predictions on first 5 test images\n",
    "predictions = model.predict(x_test)\n",
    "# print(\"Predicted labels:\", predictions.argmax(axis=1))\n",
    "# print(\"True labels:     \", y_test.argmax(axis=1))\n",
    "print(predictions.argmax(axis=1) - y_test.argmax(axis=1))"
   ]
  },
  {
   "cell_type": "code",
   "execution_count": null,
   "id": "ce858abc",
   "metadata": {},
   "outputs": [],
   "source": []
  }
 ],
 "metadata": {
  "kernelspec": {
   "display_name": "Python 3",
   "language": "python",
   "name": "python3"
  },
  "language_info": {
   "codemirror_mode": {
    "name": "ipython",
    "version": 3
   },
   "file_extension": ".py",
   "mimetype": "text/x-python",
   "name": "python",
   "nbconvert_exporter": "python",
   "pygments_lexer": "ipython3",
   "version": "3.10.0"
  }
 },
 "nbformat": 4,
 "nbformat_minor": 5
}
